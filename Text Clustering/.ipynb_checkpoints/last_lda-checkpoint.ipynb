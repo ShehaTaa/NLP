{
 "cells": [
  {
   "cell_type": "code",
   "execution_count": 15,
   "metadata": {},
   "outputs": [
    {
     "name": "stderr",
     "output_type": "stream",
     "text": [
      "[nltk_data] Downloading package stopwords to\n",
      "[nltk_data]     C:\\Users\\sarah\\AppData\\Roaming\\nltk_data...\n",
      "[nltk_data]   Package stopwords is already up-to-date!\n",
      "C:\\Users\\sarah\\anaconda3\\lib\\site-packages\\sklearn\\decomposition\\_lda.py:28: DeprecationWarning: `np.float` is a deprecated alias for the builtin `float`. To silence this warning, use `float` by itself. Doing this will not modify any behavior and is safe. If you specifically wanted the numpy scalar type, use `np.float64` here.\n",
      "Deprecated in NumPy 1.20; for more details and guidance: https://numpy.org/devdocs/release/1.20.0-notes.html#deprecations\n",
      "  EPS = np.finfo(np.float).eps\n"
     ]
    }
   ],
   "source": [
    "import math\n",
    "from sklearn.utils import shuffle\n",
    "import nltk; nltk.download('stopwords')\n",
    "import re\n",
    "import numpy as np\n",
    "import pandas as pd\n",
    "from pprint import pprint \n",
    "# Ginsim\n",
    "import gensim\n",
    "import gensim.corpora as corpora\n",
    "import gensim.utils as simple_preprocess\n",
    "from gensim.models import CoherenceModel\n",
    "import spacy\n",
    "# Plotting tools\n",
    "import pyLDAvis\n",
    "import pyLDAvis.gensim_models as genisvis\n",
    "import matplotlib.pyplot as plt\n",
    "%matplotlib inline"
   ]
  },
  {
   "cell_type": "code",
   "execution_count": 17,
   "metadata": {},
   "outputs": [
    {
     "name": "stderr",
     "output_type": "stream",
     "text": [
      "C:\\Users\\sarah\\anaconda3\\lib\\site-packages\\ipykernel\\ipkernel.py:287: DeprecationWarning: `should_run_async` will not call `transform_cell` automatically in the future. Please pass the result to `transformed_cell` argument and any exception that happen during thetransform in `preprocessing_exc_tuple` in IPython 7.17 and above.\n",
      "  and should_run_async(code)\n"
     ]
    }
   ],
   "source": [
    "from urllib import request\n",
    "url1 = \"https://www.gutenberg.org/files/2787/2787-0.txt\"        #fashion\n",
    "#  5- Fashion  Title: An Old-fashioned Girl  Author: Louisa May Alcott\n",
    "url2 = \"https://www.gutenberg.org/cache/epub/47760/pg47760.txt\"     #sports     \n",
    "#  2- History  Title: Three Hundred Things a Bright Boy Can Do  Author: Anonymous\n",
    "url3 = \"https://www.gutenberg.org/cache/epub/66346/pg66346.txt\"   \n",
    "#  3- Music and Art   Title: The Lighter Classics in Music   Author:  David Ewen\n",
    "url4 = \"https://www.gutenberg.org/cache/epub/12238/pg12238.txt\"   \n",
    "#  4- Food     Title: Science in the Kitchen    Author: Mrs. E. E. Kellogg\n",
    "url5 = \"https://www.gutenberg.org/files/3008/3008-0.txt\"          #sports \n",
    "#  5- Computer and Tech  Title: The New Hacker's Dictionary  Author:  Various editors\n",
    "\n",
    "urls = [url1 ,url2 ,url3, url4 ,url5]\n",
    "\n",
    "Books_names = [\"Democracy In America\" ,\n",
    "               \"The History Of The Decline And Fall Of The Roman Empire\" ,\n",
    "               \"Three Hundred Things a Bright Boy Can Do\"  ,\n",
    "               \"Science in the Kitchen\" ,\n",
    "               \"An Old-fashioned Girl\"]\n",
    "\n",
    "Books_label = [ 'a' ,'b' ,'c','d' ,'e']\n",
    "\n",
    "Authors = [\"Alexis de Toqueville\" ,\n",
    "           \"Edward Gibbon\" ,\n",
    "           \"Anonymous\" ,\n",
    "           \"Mrs. E. E. Kellogg\" ,\n",
    "           \"Louisa May Alcott\"]"
   ]
  },
  {
   "cell_type": "code",
   "execution_count": 18,
   "metadata": {},
   "outputs": [
    {
     "name": "stderr",
     "output_type": "stream",
     "text": [
      "C:\\Users\\sarah\\anaconda3\\lib\\site-packages\\ipykernel\\ipkernel.py:287: DeprecationWarning: `should_run_async` will not call `transform_cell` automatically in the future. Please pass the result to `transformed_cell` argument and any exception that happen during thetransform in `preprocessing_exc_tuple` in IPython 7.17 and above.\n",
      "  and should_run_async(code)\n"
     ]
    }
   ],
   "source": [
    "Books_contents = []\n",
    "\n",
    "for U  in urls :\n",
    "    response = request.urlopen(U)\n",
    "    raw = response.read().decode('utf8')\n",
    "    text= re.findall(r\"[a-zA-Z]{3,}\", raw)\n",
    "    lst =[]\n",
    "    for i in text:\n",
    "        W = i.lower()\n",
    "        lst.append(str(W))\n",
    "    Books_contents.append(lst)\n",
    "    \n",
    "# make sure that all lists contain 100 word \n",
    "Books_contents_100 = []               \n",
    "for i in Books_contents:\n",
    "    l = i[0:(math.floor(len(i)/150)) * 150]\n",
    "    Books_contents_100.append(l)"
   ]
  },
  {
   "cell_type": "code",
   "execution_count": 19,
   "metadata": {},
   "outputs": [
    {
     "name": "stderr",
     "output_type": "stream",
     "text": [
      "C:\\Users\\sarah\\anaconda3\\lib\\site-packages\\ipykernel\\ipkernel.py:287: DeprecationWarning: `should_run_async` will not call `transform_cell` automatically in the future. Please pass the result to `transformed_cell` argument and any exception that happen during thetransform in `preprocessing_exc_tuple` in IPython 7.17 and above.\n",
      "  and should_run_async(code)\n",
      "<ipython-input-19-d176ed1a1d24>:13: SettingWithCopyWarning: \n",
      "A value is trying to be set on a copy of a slice from a DataFrame\n",
      "\n",
      "See the caveats in the documentation: https://pandas.pydata.org/pandas-docs/stable/user_guide/indexing.html#returning-a-view-versus-a-copy\n",
      "  df_0[\"a150_Words\"][i] = \" \".join(df_0[\"a150_Words\"][i])\n"
     ]
    },
    {
     "name": "stdout",
     "output_type": "stream",
     "text": [
      "150\n"
     ]
    },
    {
     "data": {
      "text/html": [
       "<div>\n",
       "<style scoped>\n",
       "    .dataframe tbody tr th:only-of-type {\n",
       "        vertical-align: middle;\n",
       "    }\n",
       "\n",
       "    .dataframe tbody tr th {\n",
       "        vertical-align: top;\n",
       "    }\n",
       "\n",
       "    .dataframe thead th {\n",
       "        text-align: right;\n",
       "    }\n",
       "</style>\n",
       "<table border=\"1\" class=\"dataframe\">\n",
       "  <thead>\n",
       "    <tr style=\"text-align: right;\">\n",
       "      <th></th>\n",
       "      <th>index</th>\n",
       "      <th>Authors</th>\n",
       "      <th>title</th>\n",
       "      <th>label</th>\n",
       "      <th>a150_Words</th>\n",
       "    </tr>\n",
       "  </thead>\n",
       "  <tbody>\n",
       "    <tr>\n",
       "      <th>80</th>\n",
       "      <td>3</td>\n",
       "      <td>Mrs. E. E. Kellogg</td>\n",
       "      <td>Science in the Kitchen</td>\n",
       "      <td>d</td>\n",
       "      <td>and improper cookery food the use flavors and ...</td>\n",
       "    </tr>\n",
       "    <tr>\n",
       "      <th>76</th>\n",
       "      <td>0</td>\n",
       "      <td>Alexis de Toqueville</td>\n",
       "      <td>Democracy In America</td>\n",
       "      <td>a</td>\n",
       "      <td>would you like rip these clothes off and have ...</td>\n",
       "    </tr>\n",
       "    <tr>\n",
       "      <th>157</th>\n",
       "      <td>1</td>\n",
       "      <td>Edward Gibbon</td>\n",
       "      <td>The History Of The Decline And Fall Of The Rom...</td>\n",
       "      <td>b</td>\n",
       "      <td>not for rough cruising now and then the legs n...</td>\n",
       "    </tr>\n",
       "    <tr>\n",
       "      <th>112</th>\n",
       "      <td>1</td>\n",
       "      <td>Edward Gibbon</td>\n",
       "      <td>The History Of The Decline And Fall Of The Rom...</td>\n",
       "      <td>b</td>\n",
       "      <td>fairly though may years before you can well th...</td>\n",
       "    </tr>\n",
       "    <tr>\n",
       "      <th>186</th>\n",
       "      <td>2</td>\n",
       "      <td>Anonymous</td>\n",
       "      <td>Three Hundred Things a Bright Boy Can Do</td>\n",
       "      <td>c</td>\n",
       "      <td>was one friml greatest successes mainly becaus...</td>\n",
       "    </tr>\n",
       "  </tbody>\n",
       "</table>\n",
       "</div>"
      ],
      "text/plain": [
       "     index               Authors  \\\n",
       "80       3    Mrs. E. E. Kellogg   \n",
       "76       0  Alexis de Toqueville   \n",
       "157      1         Edward Gibbon   \n",
       "112      1         Edward Gibbon   \n",
       "186      2             Anonymous   \n",
       "\n",
       "                                                 title label  \\\n",
       "80                              Science in the Kitchen     d   \n",
       "76                                Democracy In America     a   \n",
       "157  The History Of The Decline And Fall Of The Rom...     b   \n",
       "112  The History Of The Decline And Fall Of The Rom...     b   \n",
       "186           Three Hundred Things a Bright Boy Can Do     c   \n",
       "\n",
       "                                            a150_Words  \n",
       "80   and improper cookery food the use flavors and ...  \n",
       "76   would you like rip these clothes off and have ...  \n",
       "157  not for rough cruising now and then the legs n...  \n",
       "112  fairly though may years before you can well th...  \n",
       "186  was one friml greatest successes mainly becaus...  "
      ]
     },
     "execution_count": 19,
     "metadata": {},
     "output_type": "execute_result"
    }
   ],
   "source": [
    "# combine all lists in one dataframe \n",
    "data = pd.DataFrame()\n",
    "for i in range(len(Books_contents_100)):\n",
    "    dic = {}\n",
    "    lis =  [Books_contents_100[i][x:x+150] for x in range(0, len(Books_contents_100[i]), 150)]\n",
    "    dic['index']= i  # refer to the number of the book \n",
    "    dic['Authors']= Authors[i]\n",
    "    dic['title']= Books_names[i] # refer to the book name\n",
    "    dic['label'] = Books_label[i]\n",
    "    dic['a150_Words'] = lis # the partition of 100 words\n",
    "    df_0 = pd.DataFrame(dic)\n",
    "    for i in range(len(df_0)):\n",
    "        df_0[\"a150_Words\"][i] = \" \".join(df_0[\"a150_Words\"][i])\n",
    "    df = df_0[:200]\n",
    "    data = data.append(df)\n",
    "    \n",
    "data = shuffle(data)\n",
    "d = list(data.iloc[5, 4].split())\n",
    "print(len(d))\n",
    "data.head()"
   ]
  },
  {
   "cell_type": "code",
   "execution_count": 20,
   "metadata": {},
   "outputs": [
    {
     "name": "stdout",
     "output_type": "stream",
     "text": [
      "['and improper cookery food the use flavors and condiments well palm off upon the digestive organs all sorts inferior material that poor cookery has come the rule rather than the exception another reason for this prevalence bad cookery found the fact that many homes the cooking intrusted ignorant class persons having knowledge whatever the scientific principles involved this most important and practical arts ethical problem which have been unable solve the fact that women who would never think trusting the care their fine china and bric brac unskilled hands unhesitatingly intrust persons who are almost wholly untrained the preparation their daily food there department life where superior intelligence more needed than the selection and preparation food upon which largely depend the health and physical welfare the family circle the evils bad cookery and ill selected food are manifold many fact that has been calculated that they far exceed the mischief']\n"
     ]
    },
    {
     "name": "stderr",
     "output_type": "stream",
     "text": [
      "C:\\Users\\sarah\\anaconda3\\lib\\site-packages\\ipykernel\\ipkernel.py:287: DeprecationWarning: `should_run_async` will not call `transform_cell` automatically in the future. Please pass the result to `transformed_cell` argument and any exception that happen during thetransform in `preprocessing_exc_tuple` in IPython 7.17 and above.\n",
      "  and should_run_async(code)\n"
     ]
    }
   ],
   "source": [
    "our_data = data.a150_Words.values.tolist()\n",
    "print(our_data[:1])"
   ]
  },
  {
   "cell_type": "code",
   "execution_count": 21,
   "metadata": {},
   "outputs": [
    {
     "name": "stderr",
     "output_type": "stream",
     "text": [
      "C:\\Users\\sarah\\anaconda3\\lib\\site-packages\\ipykernel\\ipkernel.py:287: DeprecationWarning: `should_run_async` will not call `transform_cell` automatically in the future. Please pass the result to `transformed_cell` argument and any exception that happen during thetransform in `preprocessing_exc_tuple` in IPython 7.17 and above.\n",
      "  and should_run_async(code)\n"
     ]
    },
    {
     "name": "stdout",
     "output_type": "stream",
     "text": [
      "[['and', 'improper', 'cookery', 'food', 'the', 'use', 'flavors', 'and', 'condiments', 'well', 'palm', 'off', 'upon', 'the', 'digestive', 'organs', 'all', 'sorts', 'inferior', 'material', 'that', 'poor', 'cookery', 'has', 'come', 'the', 'rule', 'rather', 'than', 'the', 'exception', 'another', 'reason', 'for', 'this', 'prevalence', 'bad', 'cookery', 'found', 'the', 'fact', 'that', 'many', 'homes', 'the', 'cooking', 'intrusted', 'ignorant', 'class', 'persons', 'having', 'knowledge', 'whatever', 'the', 'scientific', 'principles', 'involved', 'this', 'most', 'important', 'and', 'practical', 'arts', 'ethical', 'problem', 'which', 'have', 'been', 'unable', 'solve', 'the', 'fact', 'that', 'women', 'who', 'would', 'never', 'think', 'trusting', 'the', 'care', 'their', 'fine', 'china', 'and', 'bric', 'brac', 'unskilled', 'hands', 'unhesitatingly', 'intrust', 'persons', 'who', 'are', 'almost', 'wholly', 'untrained', 'the', 'preparation', 'their', 'daily', 'food', 'there', 'department', 'life', 'where', 'superior', 'intelligence', 'more', 'needed', 'than', 'the', 'selection', 'and', 'preparation', 'food', 'upon', 'which', 'largely', 'depend', 'the', 'health', 'and', 'physical', 'welfare', 'the', 'family', 'circle', 'the', 'evils', 'bad', 'cookery', 'and', 'ill', 'selected', 'food', 'are', 'manifold', 'many', 'fact', 'that', 'has', 'been', 'calculated', 'that', 'they', 'far', 'exceed', 'the', 'mischief']]\n"
     ]
    }
   ],
   "source": [
    "def sent_to_words(sentences):\n",
    "    for sentence in sentences:\n",
    "        yield(gensim.utils.simple_preprocess(str(sentence), deacc = True))\n",
    "data_words = list(sent_to_words(our_data))    \n",
    "print(data_words[:1])"
   ]
  },
  {
   "cell_type": "code",
   "execution_count": 22,
   "metadata": {},
   "outputs": [
    {
     "name": "stderr",
     "output_type": "stream",
     "text": [
      "C:\\Users\\sarah\\anaconda3\\lib\\site-packages\\ipykernel\\ipkernel.py:287: DeprecationWarning: `should_run_async` will not call `transform_cell` automatically in the future. Please pass the result to `transformed_cell` argument and any exception that happen during thetransform in `preprocessing_exc_tuple` in IPython 7.17 and above.\n",
      "  and should_run_async(code)\n"
     ]
    },
    {
     "name": "stdout",
     "output_type": "stream",
     "text": [
      "['and', 'improper', 'cookery', 'food', 'the', 'use', 'flavors', 'and', 'condiments', 'well', 'palm', 'off', 'upon', 'the', 'digestive_organs', 'all_sorts', 'inferior', 'material', 'that', 'poor', 'cookery', 'has', 'come', 'the', 'rule', 'rather_than', 'the', 'exception', 'another', 'reason', 'for', 'this', 'prevalence', 'bad', 'cookery', 'found', 'the', 'fact', 'that', 'many', 'homes', 'the', 'cooking', 'intrusted', 'ignorant', 'class', 'persons', 'having', 'knowledge', 'whatever', 'the', 'scientific_principles', 'involved', 'this', 'most', 'important', 'and', 'practical', 'arts', 'ethical', 'problem', 'which', 'have', 'been', 'unable', 'solve', 'the', 'fact', 'that', 'women', 'who', 'would', 'never', 'think', 'trusting', 'the', 'care', 'their', 'fine', 'china', 'and', 'bric', 'brac', 'unskilled', 'hands', 'unhesitatingly', 'intrust', 'persons', 'who', 'are', 'almost', 'wholly', 'untrained', 'the', 'preparation', 'their', 'daily', 'food', 'there', 'department', 'life', 'where', 'superior', 'intelligence', 'more', 'needed', 'than', 'the', 'selection', 'and', 'preparation', 'food', 'upon', 'which', 'largely', 'depend', 'the', 'health', 'and', 'physical', 'welfare', 'the', 'family', 'circle', 'the', 'evils', 'bad', 'cookery', 'and', 'ill', 'selected', 'food', 'are', 'manifold', 'many', 'fact', 'that', 'has_been', 'calculated', 'that', 'they', 'far', 'exceed', 'the', 'mischief']\n"
     ]
    }
   ],
   "source": [
    "# Build the bigram and trigram models\n",
    "bigram = gensim.models.Phrases(data_words, min_count = 5, threshold = 100)\n",
    "trigram = gensim.models.Phrases(bigram[data_words], threshold = 100)\n",
    "\n",
    "#faster way\n",
    "bigram_mod = gensim.models.phrases.Phraser(bigram)\n",
    "trigram_mod = gensim.models.phrases.Phraser(trigram)\n",
    "\n",
    "print(trigram_mod[bigram_mod[data_words[0]]])"
   ]
  },
  {
   "cell_type": "code",
   "execution_count": 23,
   "metadata": {},
   "outputs": [
    {
     "name": "stderr",
     "output_type": "stream",
     "text": [
      "C:\\Users\\sarah\\anaconda3\\lib\\site-packages\\ipykernel\\ipkernel.py:287: DeprecationWarning: `should_run_async` will not call `transform_cell` automatically in the future. Please pass the result to `transformed_cell` argument and any exception that happen during thetransform in `preprocessing_exc_tuple` in IPython 7.17 and above.\n",
      "  and should_run_async(code)\n"
     ]
    }
   ],
   "source": [
    "from nltk.corpus import stopwords\n",
    "stop_words = stopwords.words('english')\n",
    "def remove_stopwords(texts):\n",
    "       return [[word for word in gensim.utils.simple_preprocess(str(doc)) if word not in stop_words] for doc in texts]"
   ]
  },
  {
   "cell_type": "code",
   "execution_count": 24,
   "metadata": {},
   "outputs": [
    {
     "name": "stderr",
     "output_type": "stream",
     "text": [
      "C:\\Users\\sarah\\anaconda3\\lib\\site-packages\\ipykernel\\ipkernel.py:287: DeprecationWarning: `should_run_async` will not call `transform_cell` automatically in the future. Please pass the result to `transformed_cell` argument and any exception that happen during thetransform in `preprocessing_exc_tuple` in IPython 7.17 and above.\n",
      "  and should_run_async(code)\n"
     ]
    }
   ],
   "source": [
    "def make_bigrams(texts):\n",
    "    return [bigram_mod[doc] for doc in texts]\n",
    "def make_trigrams(texts):\n",
    "    return [trigram_mod[bigram_mod[doc]] for doc in texts]"
   ]
  },
  {
   "cell_type": "code",
   "execution_count": 25,
   "metadata": {},
   "outputs": [
    {
     "name": "stderr",
     "output_type": "stream",
     "text": [
      "C:\\Users\\sarah\\anaconda3\\lib\\site-packages\\ipykernel\\ipkernel.py:287: DeprecationWarning: `should_run_async` will not call `transform_cell` automatically in the future. Please pass the result to `transformed_cell` argument and any exception that happen during thetransform in `preprocessing_exc_tuple` in IPython 7.17 and above.\n",
      "  and should_run_async(code)\n"
     ]
    }
   ],
   "source": [
    "def lemmatization(texts, allowed_postags=['NOUN', 'ADJ', 'VERB', 'ADV']):\n",
    "    texts_out = []\n",
    "    for sent in texts:\n",
    "        doc = nlp(\" \".join(sent)) \n",
    "        texts_out.append([token.lemma_ for token in doc if token.pos_ in allowed_postags])\n",
    "    return texts_out"
   ]
  },
  {
   "cell_type": "code",
   "execution_count": 26,
   "metadata": {},
   "outputs": [
    {
     "name": "stderr",
     "output_type": "stream",
     "text": [
      "C:\\Users\\sarah\\anaconda3\\lib\\site-packages\\ipykernel\\ipkernel.py:287: DeprecationWarning: `should_run_async` will not call `transform_cell` automatically in the future. Please pass the result to `transformed_cell` argument and any exception that happen during thetransform in `preprocessing_exc_tuple` in IPython 7.17 and above.\n",
      "  and should_run_async(code)\n"
     ]
    },
    {
     "name": "stdout",
     "output_type": "stream",
     "text": [
      "[['improper', 'cookery', 'food', 'use', 'flavor', 'condiment', 'well', 'palm', 'sort', 'inferior', 'material', 'poor', 'cookery', 'come', 'rule', 'rather', 'exception', 'reason', 'prevalence', 'bad', 'cookery', 'find', 'fact', 'many', 'home', 'cook', 'intrusted', 'ignorant', 'class', 'person', 'knowledge', 'scientific_principle', 'involve', 'important', 'practical', 'art', 'ethical', 'problem', 'unable', 'solve', 'fact', 'woman', 'never', 'think', 'trust', 'care', 'unskille', 'hand', 'unhesitatingly', 'intrust', 'person', 'almost', 'wholly', 'untrained', 'preparation', 'daily', 'food', 'department', 'life', 'superior', 'intelligence', 'need', 'selection', 'preparation', 'food', 'largely', 'depend', 'health', 'physical', 'welfare', 'family', 'circle', 'evil', 'bad', 'cookery', 'ill', 'select', 'food', 'manifold', 'many', 'fact', 'calculate', 'far', 'exceed', 'mischief']]\n"
     ]
    }
   ],
   "source": [
    "# Remove Stop Words\n",
    "data_words_nostops = remove_stopwords(data_words)\n",
    "\n",
    "# Form Bigrams\n",
    "data_words_bigrams = make_bigrams(data_words_nostops)\n",
    "\n",
    "# Initialize spacy 'en_core_web_sm' model, keeping only tagger component (for efficiency)\n",
    "# python3 -m spacy download en\n",
    "nlp = spacy.load('en_core_web_sm', disable=['parser', 'ner'])\n",
    "\n",
    "# Do lemmatization keeping only noun, adj, vb, adv\n",
    "data_lemmatized = lemmatization(data_words_bigrams, allowed_postags=['NOUN', 'ADJ', 'VERB', 'ADV'])\n",
    "texts = data_lemmatized\n",
    "print(data_lemmatized[:1])"
   ]
  },
  {
   "cell_type": "code",
   "execution_count": 27,
   "metadata": {},
   "outputs": [
    {
     "name": "stderr",
     "output_type": "stream",
     "text": [
      "C:\\Users\\sarah\\anaconda3\\lib\\site-packages\\ipykernel\\ipkernel.py:287: DeprecationWarning: `should_run_async` will not call `transform_cell` automatically in the future. Please pass the result to `transformed_cell` argument and any exception that happen during thetransform in `preprocessing_exc_tuple` in IPython 7.17 and above.\n",
      "  and should_run_async(code)\n"
     ]
    }
   ],
   "source": [
    "# create dictionary\n",
    "dictionary = corpora.Dictionary(data_lemmatized)"
   ]
  },
  {
   "cell_type": "code",
   "execution_count": 28,
   "metadata": {},
   "outputs": [
    {
     "name": "stdout",
     "output_type": "stream",
     "text": [
      "Dictionary(10921 unique tokens: ['almost', 'art', 'bad', 'calculate', 'care']...)\n"
     ]
    },
    {
     "name": "stderr",
     "output_type": "stream",
     "text": [
      "C:\\Users\\sarah\\anaconda3\\lib\\site-packages\\ipykernel\\ipkernel.py:287: DeprecationWarning: `should_run_async` will not call `transform_cell` automatically in the future. Please pass the result to `transformed_cell` argument and any exception that happen during thetransform in `preprocessing_exc_tuple` in IPython 7.17 and above.\n",
      "  and should_run_async(code)\n"
     ]
    }
   ],
   "source": [
    "print(dictionary)"
   ]
  },
  {
   "cell_type": "code",
   "execution_count": 29,
   "metadata": {},
   "outputs": [
    {
     "name": "stderr",
     "output_type": "stream",
     "text": [
      "C:\\Users\\sarah\\anaconda3\\lib\\site-packages\\ipykernel\\ipkernel.py:287: DeprecationWarning: `should_run_async` will not call `transform_cell` automatically in the future. Please pass the result to `transformed_cell` argument and any exception that happen during thetransform in `preprocessing_exc_tuple` in IPython 7.17 and above.\n",
      "  and should_run_async(code)\n"
     ]
    }
   ],
   "source": [
    "#Term document frequency\n",
    "corpus = [dictionary.doc2bow(text) for text in texts]"
   ]
  },
  {
   "cell_type": "code",
   "execution_count": 30,
   "metadata": {},
   "outputs": [
    {
     "name": "stderr",
     "output_type": "stream",
     "text": [
      "C:\\Users\\sarah\\anaconda3\\lib\\site-packages\\ipykernel\\ipkernel.py:287: DeprecationWarning: `should_run_async` will not call `transform_cell` automatically in the future. Please pass the result to `transformed_cell` argument and any exception that happen during thetransform in `preprocessing_exc_tuple` in IPython 7.17 and above.\n",
      "  and should_run_async(code)\n"
     ]
    }
   ],
   "source": [
    "lda_model_1000 = gensim.models.ldamodel.LdaModel(corpus = corpus,\n",
    "                                           id2word = dictionary,\n",
    "                                           num_topics = 1000,\n",
    "                                           random_state = 100,\n",
    "                                           update_every = 1,\n",
    "                                           chunksize = 100, \n",
    "                                           passes = 10, \n",
    "                                           alpha = 'auto',\n",
    "                                           per_word_topics = True)"
   ]
  },
  {
   "cell_type": "code",
   "execution_count": 31,
   "metadata": {},
   "outputs": [
    {
     "name": "stdout",
     "output_type": "stream",
     "text": [
      "[(389,\n",
      "  '0.000*\"bludgeon\" + 0.000*\"escher\" + 0.000*\"pork\" + 0.000*\"propensity\" + '\n",
      "  '0.000*\"scramble\" + 0.000*\"susceptible\" + 0.000*\"viscera\" + '\n",
      "  '0.000*\"adolescence\" + 0.000*\"assert\" + 0.000*\"jewish\"'),\n",
      " (191,\n",
      "  '0.000*\"bludgeon\" + 0.000*\"escher\" + 0.000*\"pork\" + 0.000*\"propensity\" + '\n",
      "  '0.000*\"scramble\" + 0.000*\"susceptible\" + 0.000*\"viscera\" + '\n",
      "  '0.000*\"adolescence\" + 0.000*\"assert\" + 0.000*\"jewish\"'),\n",
      " (13,\n",
      "  '0.000*\"bludgeon\" + 0.000*\"escher\" + 0.000*\"pork\" + 0.000*\"propensity\" + '\n",
      "  '0.000*\"scramble\" + 0.000*\"susceptible\" + 0.000*\"viscera\" + '\n",
      "  '0.000*\"adolescence\" + 0.000*\"assert\" + 0.000*\"jewish\"'),\n",
      " (349,\n",
      "  '0.000*\"bludgeon\" + 0.000*\"escher\" + 0.000*\"pork\" + 0.000*\"propensity\" + '\n",
      "  '0.000*\"scramble\" + 0.000*\"susceptible\" + 0.000*\"viscera\" + '\n",
      "  '0.000*\"adolescence\" + 0.000*\"assert\" + 0.000*\"jewish\"'),\n",
      " (684,\n",
      "  '0.000*\"bludgeon\" + 0.000*\"escher\" + 0.000*\"pork\" + 0.000*\"propensity\" + '\n",
      "  '0.000*\"scramble\" + 0.000*\"susceptible\" + 0.000*\"viscera\" + '\n",
      "  '0.000*\"adolescence\" + 0.000*\"assert\" + 0.000*\"jewish\"'),\n",
      " (903,\n",
      "  '0.000*\"bludgeon\" + 0.000*\"escher\" + 0.000*\"pork\" + 0.000*\"propensity\" + '\n",
      "  '0.000*\"scramble\" + 0.000*\"susceptible\" + 0.000*\"viscera\" + '\n",
      "  '0.000*\"adolescence\" + 0.000*\"assert\" + 0.000*\"jewish\"'),\n",
      " (663,\n",
      "  '0.000*\"bludgeon\" + 0.000*\"escher\" + 0.000*\"pork\" + 0.000*\"propensity\" + '\n",
      "  '0.000*\"scramble\" + 0.000*\"susceptible\" + 0.000*\"viscera\" + '\n",
      "  '0.000*\"adolescence\" + 0.000*\"assert\" + 0.000*\"jewish\"'),\n",
      " (479,\n",
      "  '0.000*\"bludgeon\" + 0.000*\"escher\" + 0.000*\"pork\" + 0.000*\"propensity\" + '\n",
      "  '0.000*\"scramble\" + 0.000*\"susceptible\" + 0.000*\"viscera\" + '\n",
      "  '0.000*\"adolescence\" + 0.000*\"assert\" + 0.000*\"jewish\"'),\n",
      " (963,\n",
      "  '0.000*\"bludgeon\" + 0.000*\"escher\" + 0.000*\"pork\" + 0.000*\"propensity\" + '\n",
      "  '0.000*\"scramble\" + 0.000*\"susceptible\" + 0.000*\"viscera\" + '\n",
      "  '0.000*\"adolescence\" + 0.000*\"assert\" + 0.000*\"jewish\"'),\n",
      " (431,\n",
      "  '0.000*\"bludgeon\" + 0.000*\"escher\" + 0.000*\"pork\" + 0.000*\"propensity\" + '\n",
      "  '0.000*\"scramble\" + 0.000*\"susceptible\" + 0.000*\"viscera\" + '\n",
      "  '0.000*\"adolescence\" + 0.000*\"assert\" + 0.000*\"jewish\"'),\n",
      " (806,\n",
      "  '0.188*\"polly\" + 0.110*\"say\" + 0.074*\"come\" + 0.067*\"look\" + 0.053*\"fan\" + '\n",
      "  '0.042*\"make\" + 0.036*\"fanny\" + 0.035*\"face\" + 0.035*\"eye\" + 0.034*\"little\"'),\n",
      " (705,\n",
      "  '0.103*\"make\" + 0.099*\"lead\" + 0.094*\"side\" + 0.071*\"pass\" + 0.064*\"paddle\" '\n",
      "  '+ 0.061*\"back\" + 0.054*\"use\" + 0.049*\"hole\" + 0.033*\"long\" + '\n",
      "  '0.032*\"entirely\"'),\n",
      " (792,\n",
      "  '0.137*\"leave\" + 0.105*\"half\" + 0.099*\"right\" + 0.056*\"fall\" + 0.055*\"head\" '\n",
      "  '+ 0.034*\"worm\" + 0.033*\"draw\" + 0.032*\"circle\" + 0.028*\"take\" + '\n",
      "  '0.027*\"strike\"'),\n",
      " (224,\n",
      "  '0.166*\"go\" + 0.107*\"see\" + 0.073*\"get\" + 0.056*\"walk\" + 0.056*\"blow\" + '\n",
      "  '0.044*\"stand\" + 0.043*\"catch\" + 0.039*\"stop\" + 0.037*\"suppose\" + '\n",
      "  '0.033*\"look\"'),\n",
      " (164,\n",
      "  '0.094*\"run\" + 0.092*\"take\" + 0.068*\"generally\" + 0.061*\"game\" + '\n",
      "  '0.048*\"increase\" + 0.048*\"long\" + 0.045*\"distance\" + 0.040*\"easy\" + '\n",
      "  '0.036*\"well\" + 0.036*\"start\"'),\n",
      " (825,\n",
      "  '0.139*\"boy\" + 0.072*\"young\" + 0.055*\"school\" + 0.052*\"read\" + 0.047*\"sure\" '\n",
      "  '+ 0.043*\"day\" + 0.039*\"send\" + 0.039*\"wish\" + 0.036*\"see\" + 0.031*\"talk\"'),\n",
      " (995,\n",
      "  '0.168*\"good\" + 0.087*\"show\" + 0.085*\"proper\" + 0.072*\"big\" + 0.066*\"give\" + '\n",
      "  '0.065*\"want\" + 0.053*\"mother\" + 0.044*\"blue\" + 0.026*\"bow\" + 0.021*\"let\"'),\n",
      " (870,\n",
      "  '0.143*\"even\" + 0.126*\"often\" + 0.080*\"people\" + 0.073*\"find\" + 0.063*\"seem\" '\n",
      "  '+ 0.046*\"english\" + 0.037*\"programming\" + 0.035*\"also\" + 0.035*\"reason\" + '\n",
      "  '0.030*\"many\"'),\n",
      " (79,\n",
      "  '0.123*\"get\" + 0.121*\"never\" + 0.060*\"consider\" + 0.054*\"black\" + '\n",
      "  '0.046*\"continue\" + 0.044*\"ring\" + 0.036*\"watch\" + 0.036*\"think\" + '\n",
      "  '0.035*\"figure\" + 0.028*\"pair\"'),\n",
      " (691,\n",
      "  '0.092*\"girl\" + 0.075*\"much\" + 0.058*\"know\" + 0.057*\"feel\" + 0.056*\"well\" + '\n",
      "  '0.052*\"say\" + 0.050*\"thing\" + 0.039*\"begin\" + 0.029*\"time\" + 0.028*\"find\"')]\n"
     ]
    },
    {
     "name": "stderr",
     "output_type": "stream",
     "text": [
      "C:\\Users\\sarah\\anaconda3\\lib\\site-packages\\ipykernel\\ipkernel.py:287: DeprecationWarning: `should_run_async` will not call `transform_cell` automatically in the future. Please pass the result to `transformed_cell` argument and any exception that happen during thetransform in `preprocessing_exc_tuple` in IPython 7.17 and above.\n",
      "  and should_run_async(code)\n"
     ]
    }
   ],
   "source": [
    "pprint(lda_model_1000.print_topics())"
   ]
  },
  {
   "cell_type": "code",
   "execution_count": 32,
   "metadata": {},
   "outputs": [
    {
     "name": "stderr",
     "output_type": "stream",
     "text": [
      "C:\\Users\\sarah\\anaconda3\\lib\\site-packages\\ipykernel\\ipkernel.py:287: DeprecationWarning: `should_run_async` will not call `transform_cell` automatically in the future. Please pass the result to `transformed_cell` argument and any exception that happen during thetransform in `preprocessing_exc_tuple` in IPython 7.17 and above.\n",
      "  and should_run_async(code)\n"
     ]
    }
   ],
   "source": [
    "doc_bow = [dictionary.doc2bow(text) for text in data_lemmatized] \n",
    "#predictions = lda_model[doc_bow]\n",
    "pred_1000 = lda_model_1000.inference(doc_bow)"
   ]
  },
  {
   "cell_type": "code",
   "execution_count": 33,
   "metadata": {},
   "outputs": [
    {
     "name": "stdout",
     "output_type": "stream",
     "text": [
      "array([[0.0009149, 0.0009149, 0.0009149, ..., 0.0009149, 0.0009149,\n",
      "        0.0009149],\n",
      "       [0.0009149, 0.0009149, 0.0009149, ..., 0.0009149, 0.0009149,\n",
      "        0.0009149],\n",
      "       [0.0009149, 0.0009149, 0.0009149, ..., 0.0009149, 0.0009149,\n",
      "        0.0009149],\n",
      "       ...,\n",
      "       [0.0009149, 0.0009149, 0.0009149, ..., 0.0009149, 0.0009149,\n",
      "        0.0009149],\n",
      "       [0.0009149, 0.0009149, 0.0009149, ..., 0.0009149, 0.0009149,\n",
      "        0.0009149],\n",
      "       [0.0009149, 0.0009149, 0.0009149, ..., 0.0009149, 0.0009149,\n",
      "        0.0009149]], dtype=float32)\n"
     ]
    },
    {
     "name": "stderr",
     "output_type": "stream",
     "text": [
      "C:\\Users\\sarah\\anaconda3\\lib\\site-packages\\ipykernel\\ipkernel.py:287: DeprecationWarning: `should_run_async` will not call `transform_cell` automatically in the future. Please pass the result to `transformed_cell` argument and any exception that happen during thetransform in `preprocessing_exc_tuple` in IPython 7.17 and above.\n",
      "  and should_run_async(code)\n"
     ]
    }
   ],
   "source": [
    "pprint(pred_1000[0])"
   ]
  },
  {
   "cell_type": "markdown",
   "metadata": {},
   "source": [
    "### 100"
   ]
  },
  {
   "cell_type": "code",
   "execution_count": 34,
   "metadata": {},
   "outputs": [
    {
     "name": "stderr",
     "output_type": "stream",
     "text": [
      "C:\\Users\\sarah\\anaconda3\\lib\\site-packages\\ipykernel\\ipkernel.py:287: DeprecationWarning: `should_run_async` will not call `transform_cell` automatically in the future. Please pass the result to `transformed_cell` argument and any exception that happen during thetransform in `preprocessing_exc_tuple` in IPython 7.17 and above.\n",
      "  and should_run_async(code)\n"
     ]
    }
   ],
   "source": [
    "lda_model_100 = gensim.models.ldamodel.LdaModel(corpus = corpus,\n",
    "                                           id2word = dictionary,\n",
    "                                           num_topics = 100,\n",
    "                                           random_state = 100,\n",
    "                                           update_every = 1,\n",
    "                                           chunksize = 100, \n",
    "                                           passes = 10, \n",
    "                                           alpha = 'auto',\n",
    "                                           per_word_topics = True)\n",
    "pred_100 = lda_model_100.inference(doc_bow)"
   ]
  },
  {
   "cell_type": "code",
   "execution_count": 35,
   "metadata": {},
   "outputs": [
    {
     "name": "stdout",
     "output_type": "stream",
     "text": [
      "array([[ 0.07469203,  0.06188878,  0.2674605 , ...,  0.09610103,\n",
      "         0.12954077,  0.05842805],\n",
      "       [ 0.07469204,  0.06188878,  0.2658843 , ...,  0.09611078,\n",
      "         0.12954248,  0.05842804],\n",
      "       [ 0.07469203,  0.06188878,  0.26313162, ..., 18.062263  ,\n",
      "         0.12957245,  0.05842804],\n",
      "       ...,\n",
      "       [ 1.2480747 ,  0.06188878,  0.2681543 , ...,  0.09611972,\n",
      "         2.5830898 ,  2.0579872 ],\n",
      "       [ 0.07469203,  0.06188878,  0.2669854 , ...,  1.0659236 ,\n",
      "         0.12958544,  0.05842804],\n",
      "       [ 0.07469203,  0.06188878,  0.28562903, ...,  0.09610279,\n",
      "         0.12966621,  0.05842804]], dtype=float32)\n"
     ]
    },
    {
     "name": "stderr",
     "output_type": "stream",
     "text": [
      "C:\\Users\\sarah\\anaconda3\\lib\\site-packages\\ipykernel\\ipkernel.py:287: DeprecationWarning: `should_run_async` will not call `transform_cell` automatically in the future. Please pass the result to `transformed_cell` argument and any exception that happen during thetransform in `preprocessing_exc_tuple` in IPython 7.17 and above.\n",
      "  and should_run_async(code)\n"
     ]
    }
   ],
   "source": [
    "pprint(pred_100[0])"
   ]
  },
  {
   "cell_type": "code",
   "execution_count": 36,
   "metadata": {},
   "outputs": [
    {
     "name": "stderr",
     "output_type": "stream",
     "text": [
      "C:\\Users\\sarah\\anaconda3\\lib\\site-packages\\ipykernel\\ipkernel.py:287: DeprecationWarning: `should_run_async` will not call `transform_cell` automatically in the future. Please pass the result to `transformed_cell` argument and any exception that happen during thetransform in `preprocessing_exc_tuple` in IPython 7.17 and above.\n",
      "  and should_run_async(code)\n"
     ]
    }
   ],
   "source": [
    "doc_bow = [dictionary.doc2bow(text) for text in data_lemmatized] "
   ]
  },
  {
   "cell_type": "code",
   "execution_count": 37,
   "metadata": {},
   "outputs": [
    {
     "name": "stdout",
     "output_type": "stream",
     "text": [
      "[(0, 1), (1, 1), (2, 2), (3, 1), (4, 1), (5, 1), (6, 1), (7, 1), (8, 1), (9, 1), (10, 4), (11, 1), (12, 1), (13, 1), (14, 1), (15, 1), (16, 1), (17, 1), (18, 3), (19, 1), (20, 1), (21, 1), (22, 1), (23, 4), (24, 1), (25, 1), (26, 1), (27, 1), (28, 1), (29, 1), (30, 1), (31, 1), (32, 1), (33, 1), (34, 1), (35, 1), (36, 1), (37, 1), (38, 1), (39, 1), (40, 2), (41, 1), (42, 1), (43, 1), (44, 1), (45, 1), (46, 2), (47, 1), (48, 1), (49, 1), (50, 2), (51, 1), (52, 1), (53, 1), (54, 1), (55, 1), (56, 1), (57, 1), (58, 1), (59, 1), (60, 1), (61, 1), (62, 1), (63, 1), (64, 1), (65, 1), (66, 1), (67, 1), (68, 1), (69, 1), (70, 1), (71, 1), (72, 1)]\n"
     ]
    },
    {
     "name": "stderr",
     "output_type": "stream",
     "text": [
      "C:\\Users\\sarah\\anaconda3\\lib\\site-packages\\ipykernel\\ipkernel.py:287: DeprecationWarning: `should_run_async` will not call `transform_cell` automatically in the future. Please pass the result to `transformed_cell` argument and any exception that happen during thetransform in `preprocessing_exc_tuple` in IPython 7.17 and above.\n",
      "  and should_run_async(code)\n"
     ]
    },
    {
     "data": {
      "text/plain": [
       "1000"
      ]
     },
     "execution_count": 37,
     "metadata": {},
     "output_type": "execute_result"
    }
   ],
   "source": [
    "print(doc_bow[0])\n",
    "len(doc_bow)"
   ]
  },
  {
   "cell_type": "code",
   "execution_count": null,
   "metadata": {},
   "outputs": [],
   "source": []
  },
  {
   "cell_type": "markdown",
   "metadata": {},
   "source": [
    "# 50"
   ]
  },
  {
   "cell_type": "code",
   "execution_count": 38,
   "metadata": {},
   "outputs": [
    {
     "name": "stderr",
     "output_type": "stream",
     "text": [
      "C:\\Users\\sarah\\anaconda3\\lib\\site-packages\\ipykernel\\ipkernel.py:287: DeprecationWarning: `should_run_async` will not call `transform_cell` automatically in the future. Please pass the result to `transformed_cell` argument and any exception that happen during thetransform in `preprocessing_exc_tuple` in IPython 7.17 and above.\n",
      "  and should_run_async(code)\n"
     ]
    }
   ],
   "source": [
    "lda_model_50 = gensim.models.ldamodel.LdaModel(corpus = corpus,\n",
    "                                           id2word = dictionary,\n",
    "                                           num_topics = 50,\n",
    "                                           random_state = 100,\n",
    "                                           update_every = 1,\n",
    "                                           chunksize = 100, \n",
    "                                           passes = 10, \n",
    "                                           alpha = 'auto',\n",
    "                                           per_word_topics = True)\n",
    "pred_50 = lda_model_50.inference(doc_bow)"
   ]
  },
  {
   "cell_type": "code",
   "execution_count": null,
   "metadata": {},
   "outputs": [],
   "source": []
  },
  {
   "cell_type": "markdown",
   "metadata": {},
   "source": [
    "## 30"
   ]
  },
  {
   "cell_type": "code",
   "execution_count": 39,
   "metadata": {},
   "outputs": [
    {
     "name": "stderr",
     "output_type": "stream",
     "text": [
      "C:\\Users\\sarah\\anaconda3\\lib\\site-packages\\ipykernel\\ipkernel.py:287: DeprecationWarning: `should_run_async` will not call `transform_cell` automatically in the future. Please pass the result to `transformed_cell` argument and any exception that happen during thetransform in `preprocessing_exc_tuple` in IPython 7.17 and above.\n",
      "  and should_run_async(code)\n"
     ]
    }
   ],
   "source": [
    "lda_model_30 = gensim.models.ldamodel.LdaModel(corpus = corpus,\n",
    "                                           id2word = dictionary,\n",
    "                                           num_topics = 30,\n",
    "                                           random_state = 100,\n",
    "                                           update_every = 1,\n",
    "                                           chunksize = 100, \n",
    "                                           passes = 10, \n",
    "                                           alpha = 'auto',\n",
    "                                           per_word_topics = True)\n",
    "pred_30 = lda_model_30.inference(doc_bow)"
   ]
  },
  {
   "cell_type": "markdown",
   "metadata": {},
   "source": [
    "## 20"
   ]
  },
  {
   "cell_type": "code",
   "execution_count": 40,
   "metadata": {},
   "outputs": [
    {
     "name": "stderr",
     "output_type": "stream",
     "text": [
      "C:\\Users\\sarah\\anaconda3\\lib\\site-packages\\ipykernel\\ipkernel.py:287: DeprecationWarning: `should_run_async` will not call `transform_cell` automatically in the future. Please pass the result to `transformed_cell` argument and any exception that happen during thetransform in `preprocessing_exc_tuple` in IPython 7.17 and above.\n",
      "  and should_run_async(code)\n"
     ]
    }
   ],
   "source": [
    "lda_model_20 = gensim.models.ldamodel.LdaModel(corpus = corpus,\n",
    "                                           id2word = dictionary,\n",
    "                                           num_topics = 20,\n",
    "                                           random_state = 100,\n",
    "                                           update_every = 1,\n",
    "                                           chunksize = 100, \n",
    "                                           passes = 10, \n",
    "                                           alpha = 'auto',\n",
    "                                           per_word_topics = True)\n",
    "pred_20 = lda_model_20.inference(doc_bow)"
   ]
  },
  {
   "cell_type": "markdown",
   "metadata": {},
   "source": [
    "### Kmeans"
   ]
  },
  {
   "cell_type": "code",
   "execution_count": 41,
   "metadata": {},
   "outputs": [
    {
     "name": "stderr",
     "output_type": "stream",
     "text": [
      "C:\\Users\\sarah\\anaconda3\\lib\\site-packages\\ipykernel\\ipkernel.py:287: DeprecationWarning: `should_run_async` will not call `transform_cell` automatically in the future. Please pass the result to `transformed_cell` argument and any exception that happen during thetransform in `preprocessing_exc_tuple` in IPython 7.17 and above.\n",
      "  and should_run_async(code)\n"
     ]
    }
   ],
   "source": [
    "from sklearn.cluster import KMeans \n",
    "def build_kMeans(clusters, X_data):\n",
    "    kmeans_model= KMeans(n_clusters= clusters, init='k-means++', random_state=0)\n",
    "    y_pred = kmeans_model.fit_predict(X_data)\n",
    "    return kmeans_model, y_pred"
   ]
  },
  {
   "cell_type": "code",
   "execution_count": 42,
   "metadata": {},
   "outputs": [
    {
     "name": "stderr",
     "output_type": "stream",
     "text": [
      "C:\\Users\\sarah\\anaconda3\\lib\\site-packages\\ipykernel\\ipkernel.py:287: DeprecationWarning: `should_run_async` will not call `transform_cell` automatically in the future. Please pass the result to `transformed_cell` argument and any exception that happen during thetransform in `preprocessing_exc_tuple` in IPython 7.17 and above.\n",
      "  and should_run_async(code)\n"
     ]
    }
   ],
   "source": [
    "bow_kmeans, bow_kmeans_pred = build_kMeans(5,pred_20[0])"
   ]
  },
  {
   "cell_type": "code",
   "execution_count": 51,
   "metadata": {},
   "outputs": [
    {
     "name": "stdout",
     "output_type": "stream",
     "text": [
      "Silhouette Score of kmeans with LDA     :   0.26980480551719666\n"
     ]
    },
    {
     "name": "stderr",
     "output_type": "stream",
     "text": [
      "C:\\Users\\sarah\\anaconda3\\lib\\site-packages\\ipykernel\\ipkernel.py:287: DeprecationWarning: `should_run_async` will not call `transform_cell` automatically in the future. Please pass the result to `transformed_cell` argument and any exception that happen during thetransform in `preprocessing_exc_tuple` in IPython 7.17 and above.\n",
      "  and should_run_async(code)\n"
     ]
    }
   ],
   "source": [
    "from sklearn.metrics import silhouette_samples, silhouette_score\n",
    "print(f'Silhouette Score of kmeans with LDA     :   {silhouette_score(pred_50[0],bow_kmeans_pred)}')"
   ]
  },
  {
   "cell_type": "code",
   "execution_count": 44,
   "metadata": {},
   "outputs": [
    {
     "name": "stderr",
     "output_type": "stream",
     "text": [
      "C:\\Users\\sarah\\anaconda3\\lib\\site-packages\\ipykernel\\ipkernel.py:287: DeprecationWarning: `should_run_async` will not call `transform_cell` automatically in the future. Please pass the result to `transformed_cell` argument and any exception that happen during thetransform in `preprocessing_exc_tuple` in IPython 7.17 and above.\n",
      "  and should_run_async(code)\n"
     ]
    },
    {
     "data": {
      "text/plain": [
       "50.202824741601944"
      ]
     },
     "execution_count": 44,
     "metadata": {},
     "output_type": "execute_result"
    }
   ],
   "source": [
    "30 + 0.24179278314113617\n",
    "50 + 0.20282474160194397"
   ]
  },
  {
   "cell_type": "code",
   "execution_count": null,
   "metadata": {},
   "outputs": [],
   "source": []
  }
 ],
 "metadata": {
  "kernelspec": {
   "display_name": "Python 3 (ipykernel)",
   "language": "python",
   "name": "python3"
  },
  "language_info": {
   "codemirror_mode": {
    "name": "ipython",
    "version": 3
   },
   "file_extension": ".py",
   "mimetype": "text/x-python",
   "name": "python",
   "nbconvert_exporter": "python",
   "pygments_lexer": "ipython3",
   "version": "3.8.10"
  }
 },
 "nbformat": 4,
 "nbformat_minor": 4
}
