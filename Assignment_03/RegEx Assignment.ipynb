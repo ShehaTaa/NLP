{
 "cells": [
  {
   "cell_type": "markdown",
   "id": "5c08655d",
   "metadata": {},
   "source": [
    "### Method to check Constraints"
   ]
  },
  {
   "cell_type": "code",
   "execution_count": 1,
   "id": "00d8b89f",
   "metadata": {},
   "outputs": [],
   "source": [
    "'''\n",
    "check_constraints(word, list_words)\n",
    "check some constraints for input\n",
    "accept: - streached_word [str] from input\n",
    "        - list of words [list] from input\n",
    "        \n",
    "return: - checked streached word [str]\n",
    "        - checked list of words [list]\n",
    "'''\n",
    "def check_constraints(streached_word, lwords):\n",
    "    \n",
    "    \"\"\"\n",
    "       Constraints on streached word and the list of words:\n",
    "        - 0 <= len(S) <= 100.\n",
    "        - 0 <= len(words) <= 100\n",
    "        - streached word consists of lowercase letters\n",
    "    \"\"\"\n",
    "    if(len(streached_word) >= 0 and len(streached_word) <= 100 and streached_word.islower()\n",
    "       and len(lwords) >= 0 and len(lwords) <= 100):\n",
    "        # loop through the list of words to check if the\n",
    "        # every word match the constarints or not\n",
    "        for word in lwords:\n",
    "            # constarints on each word in the list\n",
    "            #   - 0 <= len(words[i]) <= 100\n",
    "            #   - all words in words consist only of lowercase letters \n",
    "            if (len(word) >= 0 and len(word) <= 100 and word.islower()):\n",
    "                print(\"\")\n",
    "            else:\n",
    "                print(word, \"Do not match the constraints\")\n",
    "    else:\n",
    "        print(\"Streached word and list does not match the constarints\")\n",
    "    return streached_word, lwords    "
   ]
  },
  {
   "cell_type": "markdown",
   "id": "3c3cafd9",
   "metadata": {},
   "source": [
    "### Method to check matched streached word with pattern"
   ]
  },
  {
   "cell_type": "code",
   "execution_count": 2,
   "id": "2be118f3",
   "metadata": {},
   "outputs": [],
   "source": [
    "import re\n",
    "import copy\n",
    "\n",
    "'''\n",
    "check_matching(streached_word)\n",
    "accept: streached word [str] from check_constraints\n",
    "\n",
    "return: - compressed word [str]\n",
    "        - list of repeated char [list]\n",
    "'''\n",
    "def check_matching(streached_word):\n",
    "\n",
    "    matcher = re.compile(r'(\\w)\\1{2,}')\n",
    "    str_copy = copy.copy(streached_word)\n",
    "    matched = [match.group() for match in matcher.finditer(str_copy)]\n",
    "    matched2 = [match.group(1) for match in matcher.finditer(str_copy)]\n",
    "    \n",
    "    for i in matched:\n",
    "        if len(i) == 2:\n",
    "            str_copy = re.sub(i, i, str_copy)\n",
    "        if len(i) > 2:\n",
    "            str_copy = re.sub(i, i[0], str_copy)\n",
    "    return str_copy, matched2"
   ]
  },
  {
   "cell_type": "markdown",
   "id": "a5f5e9a1",
   "metadata": {},
   "source": [
    "### Method to check matched list of words with pattern"
   ]
  },
  {
   "cell_type": "code",
   "execution_count": 3,
   "id": "e3e64112",
   "metadata": {},
   "outputs": [],
   "source": [
    "'''\n",
    "check_matching_list_words(list_of_words, list_repeated_char)\n",
    "accept: - list of words [list] from check_constraints\n",
    "        - list of repeated char [list] from check_matching\n",
    "\n",
    "return: - list of words [list]  \n",
    "'''\n",
    "def check_matching_list_words(list_of_words, list_repeated_char):\n",
    "    words_pattern = re.compile(r'(\\w)\\1')\n",
    "    for i in range(len(list_of_words)):\n",
    "        lwrods_pattern = re.findall(words_pattern, list_of_words[i])\n",
    "        for j in range(len(lwrods_pattern)):\n",
    "            if lwrods_pattern[j] in list_repeated_char:\n",
    "                list_of_words[i] = re.sub(r\"(\"+lwrods_pattern[j]+\")\"+\"+\", lwrods_pattern[j], list_of_words[i]) \n",
    "    return list_of_words  "
   ]
  },
  {
   "cell_type": "markdown",
   "id": "27b51f44",
   "metadata": {},
   "source": [
    "### Method to check count matches"
   ]
  },
  {
   "cell_type": "code",
   "execution_count": 4,
   "id": "da4367e4",
   "metadata": {},
   "outputs": [],
   "source": [
    "'''\n",
    "check_count_matched(compressed_streach, list_of_words)\n",
    "accept: - compressed streach word [str] from check_matching\n",
    "        - list of words [list] from check_matching_list_words\n",
    "        \n",
    "return: - Number of matches        \n",
    "'''\n",
    "def check_count_matched(compressed_streach, list_of_words):\n",
    "    sum_matched = 0\n",
    "    for i in list_of_words:\n",
    "        if(i == compressed_streach):\n",
    "            sum_matched += 1\n",
    "    return sum_matched        "
   ]
  },
  {
   "cell_type": "code",
   "execution_count": 5,
   "id": "85df4cb0",
   "metadata": {},
   "outputs": [],
   "source": [
    "# heeelloooo # hello helo hi\n",
    "# zzzzzyyyyy # zzyy zy zyy zzy"
   ]
  },
  {
   "cell_type": "code",
   "execution_count": 6,
   "id": "4842f825",
   "metadata": {},
   "outputs": [
    {
     "name": "stdout",
     "output_type": "stream",
     "text": [
      "heeelloooo\n",
      "hello helo hi\n",
      "\n",
      "\n",
      "\n",
      "heeelloooo <class 'str'>\n",
      "['hello', 'helo', 'hi'] <class 'list'>\n",
      "hello <class 'str'>\n",
      "['e', 'o'] <class 'list'>\n",
      "['hello', 'helo', 'hi'] <class 'list'>\n"
     ]
    },
    {
     "data": {
      "text/plain": [
       "1"
      ]
     },
     "execution_count": 6,
     "metadata": {},
     "output_type": "execute_result"
    }
   ],
   "source": [
    "streach_word = input()\n",
    "list_of_words = input().split()\n",
    "\n",
    "checked_streach_word , checked_list_of_words = check_constraints(streach_word, list_of_words)\n",
    "\n",
    "print(checked_streach_word, type(checked_streach_word))\n",
    "print(checked_list_of_words, type(checked_list_of_words))\n",
    "\n",
    "compressed_streach, list_repeated_char = check_matching(checked_streach_word)\n",
    "\n",
    "print(compressed_streach, type(compressed_streach))\n",
    "print(list_repeated_char, type(list_repeated_char))\n",
    "\n",
    "list_of_words = check_matching_list_words(checked_list_of_words, list_repeated_char)\n",
    "\n",
    "print(list_of_words, type(list_of_words))\n",
    "\n",
    "final_count = check_count_matched(compressed_streach, list_of_words)\n",
    "\n",
    "final_count"
   ]
  },
  {
   "cell_type": "code",
   "execution_count": null,
   "id": "a9b83500",
   "metadata": {},
   "outputs": [],
   "source": []
  }
 ],
 "metadata": {
  "kernelspec": {
   "display_name": "Python 3 (ipykernel)",
   "language": "python",
   "name": "python3"
  },
  "language_info": {
   "codemirror_mode": {
    "name": "ipython",
    "version": 3
   },
   "file_extension": ".py",
   "mimetype": "text/x-python",
   "name": "python",
   "nbconvert_exporter": "python",
   "pygments_lexer": "ipython3",
   "version": "3.8.10"
  }
 },
 "nbformat": 4,
 "nbformat_minor": 5
}
